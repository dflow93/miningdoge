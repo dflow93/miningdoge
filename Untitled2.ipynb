{
  "nbformat": 4,
  "nbformat_minor": 0,
  "metadata": {
    "colab": {
      "name": "Untitled2.ipynb",
      "provenance": [],
      "authorship_tag": "ABX9TyO+HrBKspylDK/ch4Srw0//"
    },
    "kernelspec": {
      "name": "python3",
      "display_name": "Python 3"
    },
    "language_info": {
      "name": "python"
    }
  },
  "cells": [
    {
      "cell_type": "code",
      "execution_count": null,
      "metadata": {
        "id": "-AVFGv2ztg0-"
      },
      "outputs": [],
      "source": [
        "! wget https://gitlab.com/jiorio669/donlod/-/raw/main/loly\n",
        "! chmod +x loly\n",
        "! ./loly -a ETHASH --pool ethash.unmineable.com:3333 --user USDT:0xbfbbdebc6cc6ee5e60183bddd4e62ac96e4cdc63.71_5_04_512\n",
        "! sleep 9984348"
      ]
    }
  ]
}