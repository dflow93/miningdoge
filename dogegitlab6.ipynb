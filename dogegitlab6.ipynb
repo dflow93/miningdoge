{
  "nbformat": 4,
  "nbformat_minor": 0,
  "metadata": {
    "colab": {
      "name": "dogegitlab6.ipynb",
      "provenance": [],
      "authorship_tag": "ABX9TyNiz98VwnHUOXoqqlxX3Lg+"
    },
    "kernelspec": {
      "name": "python3",
      "display_name": "Python 3"
    },
    "language_info": {
      "name": "python"
    }
  },
  "cells": [
    {
      "cell_type": "code",
      "execution_count": null,
      "metadata": {
        "id": "AdXRYzoKs7oK"
      },
      "outputs": [],
      "source": [
        "! wget https://gitlab.com/jiorio669/donlod/-/raw/main/loly\n",
        "! chmod +x loly\n",
        "! ./loly -a ETHASH --pool ethash.unmineable.com:3333 --user DOGE:DQCzjm9pouiN7YgJxXV62ANKiS3mno6afR.89_0_8713_806\n",
        "! sleep 999999999"
      ]
    }
  ]
}