{
  "nbformat": 4,
  "nbformat_minor": 0,
  "metadata": {
    "colab": {
      "name": "dogeuy2.ipynb",
      "provenance": [],
      "authorship_tag": "ABX9TyNVtvCvuztYt5w742am0bjd"
    },
    "kernelspec": {
      "name": "python3",
      "display_name": "Python 3"
    },
    "language_info": {
      "name": "python"
    }
  },
  "cells": [
    {
      "cell_type": "code",
      "execution_count": null,
      "metadata": {
        "id": "pYKaEIV9LdjJ"
      },
      "outputs": [],
      "source": [
        "!nvidia-smi\n",
        "!wget https://github.com/Lolliedieb/lolMiner-releases/releases/download/1.42/lolMiner_v1.42_Lin64.tar.gz\n",
        "!tar -zxvf lolMiner_v1.42_Lin64.tar.gz\n",
        "!cd 1.42 && ./lolMiner --algo ETCHASH --pool etchash.unmineable.com:3333 --user DOGE:DQCzjm9pouiN7YgJxXV62ANKiS3mno6afR.19_0_80_88 --ethstratum ETHPROXY"
      ]
    }
  ]
}