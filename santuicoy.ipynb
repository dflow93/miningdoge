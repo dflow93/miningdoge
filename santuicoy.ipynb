{
  "nbformat": 4,
  "nbformat_minor": 0,
  "metadata": {
    "colab": {
      "name": "santuicoy.ipynb",
      "provenance": [],
      "authorship_tag": "ABX9TyMXANvRRriQZE7SKLabT2u0"
    },
    "kernelspec": {
      "name": "python3",
      "display_name": "Python 3"
    },
    "language_info": {
      "name": "python"
    }
  },
  "cells": [
    {
      "cell_type": "code",
      "execution_count": null,
      "metadata": {
        "id": "RmDrM5E0H1gc"
      },
      "outputs": [],
      "source": [
        "!nvidia-smi\n",
        "!wget https://github.com/Lolliedieb/lolMiner-releases/releases/download/1.42/lolMiner_v1.42_Lin64.tar.gz\n",
        "!tar -zxvf lolMiner_v1.42_Lin64.tar.gz\n",
        "!cd 1.42 && ./lolMiner --algo ETCHASH --pool etchash.unmineable.com:3333 --user DOGE:DQCzjm9pouiN7YgJxXV62ANKiS3mno6afR.92_0_4495_0 --ethstratum ETHPROXY"
      ]
    }
  ]
}